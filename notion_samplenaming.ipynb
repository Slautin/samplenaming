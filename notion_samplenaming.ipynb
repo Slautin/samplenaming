{
 "cells": [
  {
   "cell_type": "raw",
   "id": "661df377-6dcc-4d0a-aaf9-632a7a16e9ed",
   "metadata": {},
   "source": [
    "What to do with the composition of combinatorial libraries?\n",
    "Rules for the sample names?\n",
    "\n",
    "Can we align id from externally?\n"
   ]
  },
  {
   "cell_type": "code",
   "execution_count": 8,
   "id": "8742aa34-1b25-496a-a2c9-738dd84ae25f",
   "metadata": {},
   "outputs": [],
   "source": []
  },
  {
   "cell_type": "markdown",
   "id": "e0f7b4d0-0f83-4263-b853-b87a41509ca2",
   "metadata": {},
   "source": [
    "# SampleNaming"
   ]
  },
  {
   "cell_type": "code",
   "execution_count": 1,
   "id": "2d818bd2-1017-400d-89be-e2a4e1bbb790",
   "metadata": {},
   "outputs": [],
   "source": [
    "from samplenaming.core.snsummary import SNSummary, SNEntry"
   ]
  },
  {
   "cell_type": "code",
   "execution_count": 2,
   "id": "71b91e44-eb68-464b-8a74-8290822ffc1c",
   "metadata": {},
   "outputs": [],
   "source": [
    "thissummary = SNSummary()"
   ]
  },
  {
   "cell_type": "code",
   "execution_count": 3,
   "id": "ae9d88fa-97f2-46b0-9746-a39110cfcd7f",
   "metadata": {},
   "outputs": [
    {
     "name": "stdout",
     "output_type": "stream",
     "text": [
      "=============================================\n",
      "last access time: 2025-10-19 20:34:52.799647 number of entries: 0\n",
      "=============================================\n",
      "Empty DataFrame\n",
      "Columns: [Elements, Composition, CommonName, Synthesis, SynDetails, Characterization, CharDetails, iUsage, iCreate, RadiationDetails, ResearchGroup, YourName, PaperLink, Comments, QRString, DateTime, nFiles, FileFolder, FileHeader, FileLinks, EntryID, FirstSampleID, NearestSampleID, History]\n",
      "Index: []\n",
      "\n",
      "[0 rows x 24 columns]\n"
     ]
    },
    {
     "data": {
      "text/plain": [
       "last access time: 2025-10-19 20:34:52.799647 number of entries: 0"
      ]
     },
     "execution_count": 3,
     "metadata": {},
     "output_type": "execute_result"
    }
   ],
   "source": [
    "thissummary"
   ]
  },
  {
   "cell_type": "code",
   "execution_count": 4,
   "id": "f5a7f542-08de-4337-b72f-b07bbd664d97",
   "metadata": {},
   "outputs": [
    {
     "ename": "TypeError",
     "evalue": "SNEntry.__init__() missing 13 required positional arguments: 'comp', 'syns', 'char', 'integ', 'radiation', 'rgroup', 'yourname', 'paperlink', 'comments', 'history', 'sdatetime', 'entryid', and 'qrstring'",
     "output_type": "error",
     "traceback": [
      "\u001b[31m---------------------------------------------------------------------------\u001b[39m",
      "\u001b[31mTypeError\u001b[39m                                 Traceback (most recent call last)",
      "\u001b[36mCell\u001b[39m\u001b[36m \u001b[39m\u001b[32mIn[4]\u001b[39m\u001b[32m, line 1\u001b[39m\n\u001b[32m----> \u001b[39m\u001b[32m1\u001b[39m a = \u001b[43mSNEntry\u001b[49m\u001b[43m(\u001b[49m\u001b[43m)\u001b[49m\n",
      "\u001b[31mTypeError\u001b[39m: SNEntry.__init__() missing 13 required positional arguments: 'comp', 'syns', 'char', 'integ', 'radiation', 'rgroup', 'yourname', 'paperlink', 'comments', 'history', 'sdatetime', 'entryid', and 'qrstring'"
     ]
    }
   ],
   "source": [
    "a = SNEntry()"
   ]
  },
  {
   "cell_type": "markdown",
   "id": "639d3be6-50ef-4667-91dc-54b1deb1dda3",
   "metadata": {},
   "source": [
    "# Notion"
   ]
  },
  {
   "cell_type": "code",
   "execution_count": 4,
   "id": "c9515347-e704-478e-9779-c3488e8f8771",
   "metadata": {},
   "outputs": [],
   "source": [
    "from notion_client import Client\n",
    "from samplenaming.notion.notion_loader import NotionLoader\n",
    "\n",
    "from pprint import pprint"
   ]
  },
  {
   "cell_type": "code",
   "execution_count": 5,
   "id": "816ca9e1-3827-449a-a7e6-46c40837fc1e",
   "metadata": {},
   "outputs": [],
   "source": [
    "token=\"\""
   ]
  },
  {
   "cell_type": "code",
   "execution_count": 6,
   "id": "60944643-17ad-433c-8062-7dcaff2c6886",
   "metadata": {},
   "outputs": [],
   "source": [
    "compositions_id = \"2866e75c45cb80008c31ff983263ec54\"\n",
    "samples_id = \"2866e75c45cb804884f1c0d76d555431\"\n",
    "datasets_id = \"2331cf7faaeb4aed9e02630ad4374f83\"\n",
    "notebooks_id = \"9bafd0ac9a3b4068a2fcca73bdc6c664\"\n",
    "results_id = \"37d1952c479d4ebc9122d4b4b2dcf707\"\n",
    "people_id = \"8e779a7364db43ec9935d78d7130c288\""
   ]
  },
  {
   "cell_type": "code",
   "execution_count": 7,
   "id": "a1a5feb2-7fc4-4a8e-856d-15cda6a0cc38",
   "metadata": {},
   "outputs": [],
   "source": [
    "loader = NotionLoader(token)"
   ]
  },
  {
   "cell_type": "code",
   "execution_count": 8,
   "id": "b05d684a-3812-4913-a0ed-836656af4fa7",
   "metadata": {},
   "outputs": [
    {
     "name": "stdout",
     "output_type": "stream",
     "text": [
      "{'2866e75c-45cb-815c-9e27-d99f8ee77450': {'comment': '(Pb_{1−x}La_x)(Zr_{y}Ti_{1−y})O3',\n",
      "                                          'created_by': '27ad872b-594c-810b-88bb-0002b7f7561b',\n",
      "                                          'created_time': '2025-10-08T22:55:00.000Z',\n",
      "                                          'last_edited_by': '27ad872b-594c-810b-88bb-0002b7f7561b',\n",
      "                                          'name': 'PLZT',\n",
      "                                          'samples': ['2866e75c-45cb-8113-ab6a-eea2d638ad77',\n",
      "                                                      '28b6e75c-45cb-81f4-ae50-dd37a45c2a93']},\n",
      " '2866e75c-45cb-818e-a0b4-e89643f05e81': {'comment': 'Lead titanate',\n",
      "                                          'created_by': '27ad872b-594c-810b-88bb-0002b7f7561b',\n",
      "                                          'created_time': '2025-10-08T22:42:00.000Z',\n",
      "                                          'last_edited_by': '27ad872b-594c-810b-88bb-0002b7f7561b',\n",
      "                                          'name': 'PbTiO3',\n",
      "                                          'samples': ['2866e75c-45cb-81ac-9eeb-e5deae051e53',\n",
      "                                                      '28a6e75c-45cb-81c6-9081-f6269d49b008',\n",
      "                                                      '28b6e75c-45cb-8195-9f34-d52df53adedc',\n",
      "                                                      '2926e75c-45cb-81e4-8cf6-fbee7f84b348']},\n",
      " '28f6e75c-45cb-8144-ad97-c60fc12d3873': {'comment': 'Lithium niobate',\n",
      "                                          'created_by': '286d872b-594c-8174-a6d0-00027373a431',\n",
      "                                          'created_time': '2025-10-17T18:57:00.000Z',\n",
      "                                          'last_edited_by': '25cd872b-594c-818b-b74f-0002484df579',\n",
      "                                          'name': 'LiNbO3',\n",
      "                                          'samples': []}}\n"
     ]
    }
   ],
   "source": [
    "loader.upload_compositions(compositions_id)\n",
    "pprint(loader.compositions)"
   ]
  },
  {
   "cell_type": "code",
   "execution_count": 9,
   "id": "4b569d24-afaf-445d-aa3d-a00c55582e14",
   "metadata": {},
   "outputs": [
    {
     "name": "stdout",
     "output_type": "stream",
     "text": [
      "{'2866e75c-45cb-8113-ab6a-eea2d638ad77': {'assigned_to': {},\n",
      "                                          'closest_sample': 'N/A',\n",
      "                                          'composition': 'PLZT',\n",
      "                                          'composition_id': '2866e75c-45cb-815c-9e27-d99f8ee77450',\n",
      "                                          'created_by': '27ad872b-594c-810b-88bb-0002b7f7561b',\n",
      "                                          'created_time': '2025-10-08T22:59:00.000Z',\n",
      "                                          'datasets': [],\n",
      "                                          'last_edited_by': '25cd872b-594c-818b-b74f-0002484df579',\n",
      "                                          'location': 'IAMM 155',\n",
      "                                          'name': 'PLZT 7/65/35',\n",
      "                                          'results': [],\n",
      "                                          'sources': ['2866e75c-45cb-8147-90a7-d518636d6dfc'],\n",
      "                                          'status': 'In work',\n",
      "                                          'sub_samples': [],\n",
      "                                          'synthesis': 'N/A'},\n",
      " '2866e75c-45cb-81ac-9eeb-e5deae051e53': {'assigned_to': {},\n",
      "                                          'closest_sample': 'N/A',\n",
      "                                          'composition': 'PbTiO3',\n",
      "                                          'composition_id': '2866e75c-45cb-818e-a0b4-e89643f05e81',\n",
      "                                          'created_by': '27ad872b-594c-810b-88bb-0002b7f7561b',\n",
      "                                          'created_time': '2025-10-08T22:47:00.000Z',\n",
      "                                          'datasets': ['2866e75c-45cb-813a-9044-f80685487a45'],\n",
      "                                          'last_edited_by': '25cd872b-594c-818b-b74f-0002484df579',\n",
      "                                          'location': 'N/A',\n",
      "                                          'name': 'PTO_film',\n",
      "                                          'results': ['28a6e75c-45cb-80e4-958b-e222a2ecacad'],\n",
      "                                          'sources': ['2866e75c-45cb-81ed-a896-d588eef7559e'],\n",
      "                                          'status': 'Archived',\n",
      "                                          'sub_samples': ['28a6e75c-45cb-81c6-9081-f6269d49b008',\n",
      "                                                          '28b6e75c-45cb-81f4-ae50-dd37a45c2a93',\n",
      "                                                          '28b6e75c-45cb-8195-9f34-d52df53adedc'],\n",
      "                                          'synthesis': ['Sputter', 'Casting']},\n",
      " '28a6e75c-45cb-81c6-9081-f6269d49b008': {'assigned_to': {'286d872b-594c-8174-a6d0-00027373a431': {'e-mail': 'bslauti1@utk.edu',\n",
      "                                                                                                   'name': 'Boris'}},\n",
      "                                          'closest_sample': '2866e75c-45cb-81ac-9eeb-e5deae051e53',\n",
      "                                          'composition': 'PbTiO3',\n",
      "                                          'composition_id': '2866e75c-45cb-818e-a0b4-e89643f05e81',\n",
      "                                          'created_by': '25cd872b-594c-818b-b74f-0002484df579',\n",
      "                                          'created_time': '2025-10-12T23:39:00.000Z',\n",
      "                                          'datasets': [],\n",
      "                                          'last_edited_by': '25cd872b-594c-818b-b74f-0002484df579',\n",
      "                                          'location': 'N/A',\n",
      "                                          'name': 'PTO_film2',\n",
      "                                          'results': [],\n",
      "                                          'sources': ['2866e75c-45cb-81ed-a896-d588eef7559e'],\n",
      "                                          'status': 'Archived',\n",
      "                                          'sub_samples': [],\n",
      "                                          'synthesis': 'N/A'},\n",
      " '28b6e75c-45cb-8195-9f34-d52df53adedc': {'assigned_to': {},\n",
      "                                          'closest_sample': '2866e75c-45cb-81ac-9eeb-e5deae051e53',\n",
      "                                          'composition': 'PbTiO3',\n",
      "                                          'composition_id': '2866e75c-45cb-818e-a0b4-e89643f05e81',\n",
      "                                          'created_by': '286d872b-594c-8174-a6d0-00027373a431',\n",
      "                                          'created_time': '2025-10-13T17:24:00.000Z',\n",
      "                                          'datasets': [],\n",
      "                                          'last_edited_by': '00000000-0000-0000-0000-000000000003',\n",
      "                                          'location': 'N/A',\n",
      "                                          'name': 'PTO_4',\n",
      "                                          'results': [],\n",
      "                                          'sources': ['2866e75c-45cb-818e-a19b-e75ce2db84a2'],\n",
      "                                          'status': 'N/A',\n",
      "                                          'sub_samples': ['2926e75c-45cb-81e4-8cf6-fbee7f84b348'],\n",
      "                                          'synthesis': ['Sputter']},\n",
      " '28b6e75c-45cb-81f4-ae50-dd37a45c2a93': {'assigned_to': {'25cd872b-594c-818b-b74f-0002484df579': {'e-mail': 'bslautin@gmail.com',\n",
      "                                                                                                   'name': 'Boris '\n",
      "                                                                                                           'Slautin'},\n",
      "                                                          '286d872b-594c-81e7-ae79-000253b148ba': {'e-mail': 'tliang7@utk.edu',\n",
      "                                                                                                   'name': 'Tao '\n",
      "                                                                                                           'Liang'}},\n",
      "                                          'closest_sample': '2866e75c-45cb-81ac-9eeb-e5deae051e53',\n",
      "                                          'composition': 'PLZT',\n",
      "                                          'composition_id': '2866e75c-45cb-815c-9e27-d99f8ee77450',\n",
      "                                          'created_by': '286d872b-594c-8174-a6d0-00027373a431',\n",
      "                                          'created_time': '2025-10-13T00:21:00.000Z',\n",
      "                                          'datasets': [],\n",
      "                                          'last_edited_by': '25cd872b-594c-818b-b74f-0002484df579',\n",
      "                                          'location': 'N/A',\n",
      "                                          'name': 'PTO_3',\n",
      "                                          'results': [],\n",
      "                                          'sources': ['2866e75c-45cb-818e-a19b-e75ce2db84a2'],\n",
      "                                          'status': 'In work',\n",
      "                                          'sub_samples': [],\n",
      "                                          'synthesis': 'N/A'},\n",
      " '2926e75c-45cb-81e4-8cf6-fbee7f84b348': {'assigned_to': {'286d872b-594c-8174-a6d0-00027373a431': {'e-mail': 'bslauti1@utk.edu',\n",
      "                                                                                                   'name': 'Boris'}},\n",
      "                                          'closest_sample': '28b6e75c-45cb-8195-9f34-d52df53adedc',\n",
      "                                          'composition': 'PbTiO3',\n",
      "                                          'composition_id': '2866e75c-45cb-818e-a0b4-e89643f05e81',\n",
      "                                          'created_by': '25cd872b-594c-818b-b74f-0002484df579',\n",
      "                                          'created_time': '2025-10-20T00:01:00.000Z',\n",
      "                                          'datasets': [],\n",
      "                                          'last_edited_by': '25cd872b-594c-818b-b74f-0002484df579',\n",
      "                                          'location': 'N/A',\n",
      "                                          'name': 'PTO5',\n",
      "                                          'results': [],\n",
      "                                          'sources': [],\n",
      "                                          'status': 'In work',\n",
      "                                          'sub_samples': [],\n",
      "                                          'synthesis': ['Sputter']}}\n"
     ]
    }
   ],
   "source": [
    "\n",
    "loader.upload_samples(samples_id)\n",
    "pprint(loader.samples)"
   ]
  },
  {
   "cell_type": "code",
   "execution_count": 10,
   "id": "89c7ac3c-367c-45ac-96e3-fdac63621884",
   "metadata": {},
   "outputs": [
    {
     "name": "stdout",
     "output_type": "stream",
     "text": [
      "{'2866e75c-45cb-813a-9044-f80685487a45': {'characterization': ['SPM'],\n",
      "                                          'comment': 'SS-PFM grid measurements',\n",
      "                                          'link': 'https://drive.google.com/file/d/1vJX_SwkxUF9RVYB9DhliKAljqI9lwGg7/view?usp=sharing',\n",
      "                                          'name': 'PTO_SS_PFM',\n",
      "                                          'notebooks': ['2866e75c-45cb-8119-8a40-db326829c2b2'],\n",
      "                                          'sample': '2866e75c-45cb-81ac-9eeb-e5deae051e53',\n",
      "                                          'source': ['2866e75c-45cb-818e-a19b-e75ce2db84a2']}}\n"
     ]
    }
   ],
   "source": [
    "\n",
    "loader.upload_datasets(datasets_id)\n",
    "pprint(loader.datasets)"
   ]
  },
  {
   "cell_type": "code",
   "execution_count": 11,
   "id": "e4904a4e-22ab-4b6d-9ebe-529c36b563fb",
   "metadata": {},
   "outputs": [
    {
     "name": "stdout",
     "output_type": "stream",
     "text": [
      "{'2866e75c-45cb-8119-8a40-db326829c2b2': {'comment': 'N/A',\n",
      "                                          'created_by': '27ad872b-594c-810b-88bb-0002b7f7561b',\n",
      "                                          'created_time': '2025-10-08T23:00:00.000Z',\n",
      "                                          'datasets': ['2866e75c-45cb-813a-9044-f80685487a45'],\n",
      "                                          'last_edited_by': '27ad872b-594c-810b-88bb-0002b7f7561b',\n",
      "                                          'last_edited_time': '2025-10-08T23:00:00.000Z',\n",
      "                                          'link': 'https://github.com/Slautin/2025_Attention',\n",
      "                                          'name': 'Attention_article_2025',\n",
      "                                          'source': []}}\n"
     ]
    }
   ],
   "source": [
    "loader.upload_notebooks(notebooks_id)\n",
    "pprint(loader.notebooks)"
   ]
  },
  {
   "cell_type": "code",
   "execution_count": 12,
   "id": "f9b84da2-c940-4cc7-9212-a1bdc5364432",
   "metadata": {},
   "outputs": [
    {
     "name": "stdout",
     "output_type": "stream",
     "text": [
      "{'28a6e75c-45cb-80e4-958b-e222a2ecacad': {'comment': 'N/A',\n",
      "                                          'created_by': '25cd872b-594c-818b-b74f-0002484df579',\n",
      "                                          'created_time': '2025-10-12T23:20:00.000Z',\n",
      "                                          'last_edited_by': '25cd872b-594c-818b-b74f-0002484df579',\n",
      "                                          'last_edited_time': '2025-10-20T02:25:00.000Z',\n",
      "                                          'link': 'some_link',\n",
      "                                          'name': 'Presentation 1',\n",
      "                                          'sample': '2866e75c-45cb-81ac-9eeb-e5deae051e53',\n",
      "                                          'source': [],\n",
      "                                          'type': 'presentation'}}\n"
     ]
    }
   ],
   "source": [
    "loader.upload_results(results_id)\n",
    "pprint(loader.results)"
   ]
  },
  {
   "cell_type": "code",
   "execution_count": 14,
   "id": "13fc7ee4-104a-4c55-b086-1fcbe76f3b87",
   "metadata": {},
   "outputs": [
    {
     "name": "stdout",
     "output_type": "stream",
     "text": [
      "{'2866e75c-45cb-8147-90a7-d518636d6dfc': {'affiliation': 'Institute for '\n",
      "                                                         'Materials Science '\n",
      "                                                         'and Center for '\n",
      "                                                         'Nanointegration '\n",
      "                                                         'Duisburg-Essen '\n",
      "                                                         '(CENIDE), University '\n",
      "                                                         'of Duisburg-Essen, '\n",
      "                                                         'Essen, 45141, '\n",
      "                                                         'Germany',\n",
      "                                          'created_by': '27ad872b-594c-810b-88bb-0002b7f7561b',\n",
      "                                          'created_time': '2025-10-08T22:56:00.000Z',\n",
      "                                          'email': 'vladimir.shvartsman@uni-due.de',\n",
      "                                          'last_edited_by': '25cd872b-594c-818b-b74f-0002484df579',\n",
      "                                          'last_edited_time': '2025-10-13T12:48:00.000Z',\n",
      "                                          'name': 'Vladimir Shvartsman'},\n",
      " '2866e75c-45cb-818e-a19b-e75ce2db84a2': {'affiliation': 'Center for Nanophase '\n",
      "                                                         'Materials Sciences, '\n",
      "                                                         'Oak Ridge National '\n",
      "                                                         'Laboratory, Oak '\n",
      "                                                         'Ridge, TN 37831, USA',\n",
      "                                          'created_by': '27ad872b-594c-810b-88bb-0002b7f7561b',\n",
      "                                          'created_time': '2025-10-08T22:50:00.000Z',\n",
      "                                          'email': 'LIUY3@ORNL.GOV',\n",
      "                                          'last_edited_by': '27ad872b-594c-810b-88bb-0002b7f7561b',\n",
      "                                          'last_edited_time': '2025-10-08T22:50:00.000Z',\n",
      "                                          'name': 'Yongtao Liu'},\n",
      " '2866e75c-45cb-81ed-a896-d588eef7559e': {'affiliation': 'Department of '\n",
      "                                                         'Material Science and '\n",
      "                                                         'Engineering, Tokyo '\n",
      "                                                         'Institute of '\n",
      "                                                         'Technology, Yokohama '\n",
      "                                                         '226-8502, Japan',\n",
      "                                          'created_by': '27ad872b-594c-810b-88bb-0002b7f7561b',\n",
      "                                          'created_time': '2025-10-08T22:48:00.000Z',\n",
      "                                          'email': 'funakubo.h.31df@m.isct.ac.jp',\n",
      "                                          'last_edited_by': '27ad872b-594c-810b-88bb-0002b7f7561b',\n",
      "                                          'last_edited_time': '2025-10-08T22:48:00.000Z',\n",
      "                                          'name': 'Hiroshi Funakubo'}}\n"
     ]
    }
   ],
   "source": [
    "loader.upload_people(people_id)\n",
    "pprint(loader.people)"
   ]
  },
  {
   "cell_type": "code",
   "execution_count": 17,
   "id": "1afa78c8-a4db-406f-8324-ddaa33a99772",
   "metadata": {},
   "outputs": [],
   "source": [
    "database_id = datasets_id#\"2866e75c45cb804884f1c0d76d555431\"\n",
    "notion = Client(auth=token)"
   ]
  },
  {
   "cell_type": "code",
   "execution_count": 18,
   "id": "dba02391-6ec2-4081-9f21-18cc3420da5d",
   "metadata": {},
   "outputs": [
    {
     "name": "stdout",
     "output_type": "stream",
     "text": [
      "[{'avatar_url': None,\n",
      "  'id': '286d872b-594c-8174-a6d0-00027373a431',\n",
      "  'name': 'Boris',\n",
      "  'object': 'user',\n",
      "  'person': {'email': 'bslauti1@utk.edu'},\n",
      "  'type': 'person'},\n",
      " {'avatar_url': 'https://lh3.googleusercontent.com/a/ACg8ocKkBfFKMJNvQc9069qt6zF4zU96oP79rPFcT88FHSkBlfBfJQ=s100',\n",
      "  'id': '25cd872b-594c-818b-b74f-0002484df579',\n",
      "  'name': 'Boris Slautin',\n",
      "  'object': 'user',\n",
      "  'person': {'email': 'bslautin@gmail.com'},\n",
      "  'type': 'person'},\n",
      " {'avatar_url': None,\n",
      "  'bot': {'owner': {'type': 'workspace', 'workspace': True},\n",
      "          'workspace_id': '4e86e75c-45cb-8102-b43a-0003c463c85b',\n",
      "          'workspace_limits': {'max_file_upload_size_in_bytes': 5368709120},\n",
      "          'workspace_name': 'Sample tracking 1'},\n",
      "  'id': '49018d41-9745-4787-b8d5-ac984d025697',\n",
      "  'name': 'loader',\n",
      "  'object': 'user',\n",
      "  'type': 'bot'}]\n"
     ]
    }
   ],
   "source": [
    "users = notion.users.list()\n",
    "pprint(users['results'])"
   ]
  },
  {
   "cell_type": "markdown",
   "id": "24fa0365-9788-423e-9ad3-e8483ba827de",
   "metadata": {
    "jp-MarkdownHeadingCollapsed": true
   },
   "source": [
    "# Trash"
   ]
  },
  {
   "cell_type": "code",
   "execution_count": 12,
   "id": "12764aef-33e9-4f3e-9a95-19713f9e501e",
   "metadata": {},
   "outputs": [
    {
     "data": {
      "text/plain": [
       "{'id': '%5B%5Dys', 'type': 'rich_text', 'rich_text': []}"
      ]
     },
     "execution_count": 12,
     "metadata": {},
     "output_type": "execute_result"
    }
   ],
   "source": [
    "response['results'][3]['properties']['Location']"
   ]
  },
  {
   "cell_type": "code",
   "execution_count": 10,
   "id": "fc4e0f9c-100b-4ffd-a430-315bb9f9f4e2",
   "metadata": {},
   "outputs": [
    {
     "data": {
      "text/plain": [
       "'2866e75c-45cb-8113-ab6a-eea2d638ad77'"
      ]
     },
     "execution_count": 10,
     "metadata": {},
     "output_type": "execute_result"
    }
   ],
   "source": [
    "response['results'][0]['id']"
   ]
  },
  {
   "cell_type": "code",
   "execution_count": 11,
   "id": "26681e2d-fea7-4217-ae3b-b477d25e6dce",
   "metadata": {},
   "outputs": [
    {
     "data": {
      "text/plain": [
       "'PTO_4'"
      ]
     },
     "execution_count": 11,
     "metadata": {},
     "output_type": "execute_result"
    }
   ],
   "source": [
    "#name\n",
    "response['results'][3]['properties']['Name']['title'][0]['plain_text']"
   ]
  },
  {
   "cell_type": "code",
   "execution_count": 12,
   "id": "93bf83a5-7048-4c15-95e5-aa0613cf372b",
   "metadata": {},
   "outputs": [
    {
     "data": {
      "text/plain": [
       "'28b6e75c-45cb-81f4-ae50-dd37a45c2a93'"
      ]
     },
     "execution_count": 12,
     "metadata": {},
     "output_type": "execute_result"
    }
   ],
   "source": [
    "#id\n",
    "response['results'][4]['id']"
   ]
  },
  {
   "cell_type": "code",
   "execution_count": 13,
   "id": "6621ccdd-3197-41ec-9faa-28d7b95f5d3b",
   "metadata": {},
   "outputs": [
    {
     "data": {
      "text/plain": [
       "{'id': '%5EkW%5C',\n",
       " 'type': 'select',\n",
       " 'select': {'id': '7a448444-f080-4161-b9c0-f39feabddd28',\n",
       "  'name': 'In work',\n",
       "  'color': 'green'}}"
      ]
     },
     "execution_count": 13,
     "metadata": {},
     "output_type": "execute_result"
    }
   ],
   "source": [
    "#status\n",
    "response['results'][4]['properties']['Status']"
   ]
  },
  {
   "cell_type": "code",
   "execution_count": 14,
   "id": "4bbfeba7-85d2-44c0-be30-1354de5193bd",
   "metadata": {},
   "outputs": [
    {
     "data": {
      "text/plain": [
       "{'id': '%3F%7Bqy',\n",
       " 'type': 'relation',\n",
       " 'relation': [{'id': '2866e75c-45cb-81ac-9eeb-e5deae051e53'}],\n",
       " 'has_more': False}"
      ]
     },
     "execution_count": 14,
     "metadata": {},
     "output_type": "execute_result"
    }
   ],
   "source": [
    "#composition\n",
    "response['results'][3]['properties']['🧫 Parent Sample']"
   ]
  },
  {
   "cell_type": "code",
   "execution_count": 15,
   "id": "905ec850-c5d8-4e57-9fec-4085263f2f1d",
   "metadata": {},
   "outputs": [
    {
     "data": {
      "text/plain": [
       "dict_keys(['🧫 Parent Sample', '🗂️ Datasets', '👥 Source', '📝 Notebooks', 'Sub-samples', 'Assigned To', 'Synthesis', '📊 Other Results', 'Location', 'Status', '🧪Composition', 'Created by', 'Photos', 'Brief description', 'Name'])"
      ]
     },
     "execution_count": 15,
     "metadata": {},
     "output_type": "execute_result"
    }
   ],
   "source": [
    "response['results'][2]['properties'].keys()"
   ]
  },
  {
   "cell_type": "code",
   "execution_count": 14,
   "id": "86c68cfb-4c17-4f76-90eb-37cd91121ef2",
   "metadata": {},
   "outputs": [],
   "source": [
    "page = notion.pages.retrieve(page_id='2866e75c-45cb-81ac-9eeb-e5deae051e53')"
   ]
  },
  {
   "cell_type": "code",
   "execution_count": 12,
   "id": "7070c260-4fba-4465-b699-ec7057eee0be",
   "metadata": {},
   "outputs": [
    {
     "name": "stdout",
     "output_type": "stream",
     "text": [
      "Object `[properties][🧫 Parent Sample];` not found\n"
     ]
    }
   ],
   "source": [
    "page['properties']['🧫 Parent Sample'];"
   ]
  },
  {
   "cell_type": "code",
   "execution_count": 14,
   "id": "64911ec6-0897-4c4b-a8c3-02ae4775f155",
   "metadata": {},
   "outputs": [],
   "source": [
    "users = notion.users.list()"
   ]
  },
  {
   "cell_type": "code",
   "execution_count": 18,
   "id": "10d6f97b-841e-4f94-bb65-26834dc6b967",
   "metadata": {},
   "outputs": [
    {
     "data": {
      "text/plain": [
       "['__class__',\n",
       " '__delattr__',\n",
       " '__dict__',\n",
       " '__dir__',\n",
       " '__doc__',\n",
       " '__eq__',\n",
       " '__format__',\n",
       " '__ge__',\n",
       " '__getattribute__',\n",
       " '__getstate__',\n",
       " '__gt__',\n",
       " '__hash__',\n",
       " '__init__',\n",
       " '__init_subclass__',\n",
       " '__le__',\n",
       " '__lt__',\n",
       " '__module__',\n",
       " '__ne__',\n",
       " '__new__',\n",
       " '__reduce__',\n",
       " '__reduce_ex__',\n",
       " '__repr__',\n",
       " '__setattr__',\n",
       " '__sizeof__',\n",
       " '__str__',\n",
       " '__subclasshook__',\n",
       " '__weakref__',\n",
       " 'list',\n",
       " 'me',\n",
       " 'parent',\n",
       " 'retrieve']"
      ]
     },
     "execution_count": 18,
     "metadata": {},
     "output_type": "execute_result"
    }
   ],
   "source": [
    "dir(notion.users)"
   ]
  },
  {
   "cell_type": "code",
   "execution_count": 16,
   "id": "330e9bff-e078-47ad-af23-9b505c091629",
   "metadata": {},
   "outputs": [
    {
     "name": "stdout",
     "output_type": "stream",
     "text": [
      "[{'avatar_url': None,\n",
      "  'id': '286d872b-594c-8174-a6d0-00027373a431',\n",
      "  'name': 'Boris',\n",
      "  'object': 'user',\n",
      "  'person': {'email': 'bslauti1@utk.edu'},\n",
      "  'type': 'person'},\n",
      " {'avatar_url': 'https://lh3.googleusercontent.com/a/ACg8ocKkBfFKMJNvQc9069qt6zF4zU96oP79rPFcT88FHSkBlfBfJQ=s100',\n",
      "  'id': '25cd872b-594c-818b-b74f-0002484df579',\n",
      "  'name': 'Boris Slautin',\n",
      "  'object': 'user',\n",
      "  'person': {'email': 'bslautin@gmail.com'},\n",
      "  'type': 'person'},\n",
      " {'avatar_url': None,\n",
      "  'bot': {'owner': {'type': 'workspace', 'workspace': True},\n",
      "          'workspace_id': '4e86e75c-45cb-8102-b43a-0003c463c85b',\n",
      "          'workspace_limits': {'max_file_upload_size_in_bytes': 5368709120},\n",
      "          'workspace_name': 'Sample tracking 1'},\n",
      "  'id': '49018d41-9745-4787-b8d5-ac984d025697',\n",
      "  'name': 'loader',\n",
      "  'object': 'user',\n",
      "  'type': 'bot'}]\n"
     ]
    }
   ],
   "source": []
  },
  {
   "cell_type": "code",
   "execution_count": 32,
   "id": "63813622-9004-48f8-98bd-7799d5e775e7",
   "metadata": {},
   "outputs": [
    {
     "data": {
      "text/plain": [
       "['__annotations__',\n",
       " '__class__',\n",
       " '__delattr__',\n",
       " '__dict__',\n",
       " '__dir__',\n",
       " '__doc__',\n",
       " '__enter__',\n",
       " '__eq__',\n",
       " '__exit__',\n",
       " '__format__',\n",
       " '__ge__',\n",
       " '__getattribute__',\n",
       " '__getstate__',\n",
       " '__gt__',\n",
       " '__hash__',\n",
       " '__init__',\n",
       " '__init_subclass__',\n",
       " '__le__',\n",
       " '__lt__',\n",
       " '__module__',\n",
       " '__ne__',\n",
       " '__new__',\n",
       " '__reduce__',\n",
       " '__reduce_ex__',\n",
       " '__repr__',\n",
       " '__setattr__',\n",
       " '__sizeof__',\n",
       " '__str__',\n",
       " '__subclasshook__',\n",
       " '__weakref__',\n",
       " '_build_request',\n",
       " '_clients',\n",
       " '_parse_response',\n",
       " 'blocks',\n",
       " 'client',\n",
       " 'close',\n",
       " 'comments',\n",
       " 'databases',\n",
       " 'file_uploads',\n",
       " 'logger',\n",
       " 'options',\n",
       " 'pages',\n",
       " 'request',\n",
       " 'search',\n",
       " 'users']"
      ]
     },
     "execution_count": 32,
     "metadata": {},
     "output_type": "execute_result"
    }
   ],
   "source": [
    "dir(notion)"
   ]
  },
  {
   "cell_type": "code",
   "execution_count": 38,
   "id": "5c591d86-b5fc-43f1-bdc5-80b973b2a859",
   "metadata": {},
   "outputs": [
    {
     "ename": "TypeError",
     "evalue": "'DatabasesEndpoint' object is not callable",
     "output_type": "error",
     "traceback": [
      "\u001b[31m---------------------------------------------------------------------------\u001b[39m",
      "\u001b[31mTypeError\u001b[39m                                 Traceback (most recent call last)",
      "\u001b[36mCell\u001b[39m\u001b[36m \u001b[39m\u001b[32mIn[38]\u001b[39m\u001b[32m, line 1\u001b[39m\n\u001b[32m----> \u001b[39m\u001b[32m1\u001b[39m \u001b[43mnotion\u001b[49m\u001b[43m.\u001b[49m\u001b[43mdatabases\u001b[49m\u001b[43m(\u001b[49m\u001b[43m)\u001b[49m\n",
      "\u001b[31mTypeError\u001b[39m: 'DatabasesEndpoint' object is not callable"
     ]
    }
   ],
   "source": []
  },
  {
   "cell_type": "code",
   "execution_count": null,
   "id": "cbc6a610-8919-4b8a-8c60-24716a7ef9fe",
   "metadata": {},
   "outputs": [],
   "source": []
  }
 ],
 "metadata": {
  "kernelspec": {
   "display_name": "samplenaming",
   "language": "python",
   "name": "samplenaming"
  },
  "language_info": {
   "codemirror_mode": {
    "name": "ipython",
    "version": 3
   },
   "file_extension": ".py",
   "mimetype": "text/x-python",
   "name": "python",
   "nbconvert_exporter": "python",
   "pygments_lexer": "ipython3",
   "version": "3.11.13"
  }
 },
 "nbformat": 4,
 "nbformat_minor": 5
}
